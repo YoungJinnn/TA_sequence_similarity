{
 "cells": [
  {
   "cell_type": "code",
   "execution_count": 19,
   "id": "4a53039a-c0dd-42c3-85e3-9a8cdddb87b3",
   "metadata": {
    "collapsed": true,
    "jupyter": {
     "outputs_hidden": true
    }
   },
   "outputs": [
    {
     "name": "stderr",
     "output_type": "stream",
     "text": [
      "\n",
      "Attaching package: ‘dplyr’\n",
      "\n",
      "\n",
      "The following objects are masked from ‘package:stats’:\n",
      "\n",
      "    filter, lag\n",
      "\n",
      "\n",
      "The following objects are masked from ‘package:base’:\n",
      "\n",
      "    intersect, setdiff, setequal, union\n",
      "\n",
      "\n"
     ]
    }
   ],
   "source": [
    "library(dplyr)\n",
    "library(tidyr)"
   ]
  },
  {
   "cell_type": "markdown",
   "id": "0f908403-f6cd-4bf2-8113-e392b9fcf884",
   "metadata": {},
   "source": [
    "## FERMT1_TPM2_sequence"
   ]
  },
  {
   "cell_type": "code",
   "execution_count": 1,
   "id": "078ebd36-56f2-46c3-8ba0-2bed01318bf6",
   "metadata": {},
   "outputs": [],
   "source": [
    "setwd(\"/home/ylee/meme/FERMT1_TPM2_sequence/\")"
   ]
  },
  {
   "cell_type": "code",
   "execution_count": 13,
   "id": "01a3b59d-d2f8-4d66-95c2-173ea21c064c",
   "metadata": {},
   "outputs": [
    {
     "data": {
      "text/plain": [
       "                                                                            \n",
       "1 function (..., list = character(), package = NULL, lib.loc = NULL,        \n",
       "2     verbose = getOption(\"verbose\"), envir = .GlobalEnv, overwrite = TRUE) \n",
       "3 {                                                                         \n",
       "4     fileExt <- function(x) {                                              \n",
       "5         db <- grepl(\"\\\\\\\\.[^.]+\\\\\\\\.(gz|bz2|xz)$\", x)                     \n",
       "6         ans <- sub(\".*\\\\\\\\.\", \"\", x)                                      "
      ]
     },
     "metadata": {},
     "output_type": "display_data"
    }
   ],
   "source": [
    "data1 <- read.csv(\"PANX1_NB_fragment_FERMT1_mapped_sequecnes_64_percent.csv\", header = TRUE, fill = TRUE)\n",
    "head(data)"
   ]
  },
  {
   "cell_type": "code",
   "execution_count": 14,
   "id": "212728d8-fb79-4271-afa2-d1450bef0e87",
   "metadata": {},
   "outputs": [
    {
     "data": {
      "text/plain": [
       "                                                                            \n",
       "1 function (..., list = character(), package = NULL, lib.loc = NULL,        \n",
       "2     verbose = getOption(\"verbose\"), envir = .GlobalEnv, overwrite = TRUE) \n",
       "3 {                                                                         \n",
       "4     fileExt <- function(x) {                                              \n",
       "5         db <- grepl(\"\\\\\\\\.[^.]+\\\\\\\\.(gz|bz2|xz)$\", x)                     \n",
       "6         ans <- sub(\".*\\\\\\\\.\", \"\", x)                                      "
      ]
     },
     "metadata": {},
     "output_type": "display_data"
    }
   ],
   "source": [
    "data2 <- read.csv(\"PANX1_NB_fragment_TPM2_mapped_sequecnes_64_percent.csv\", header = TRUE, fill = TRUE)\n",
    "head(data)"
   ]
  },
  {
   "cell_type": "code",
   "execution_count": 15,
   "id": "63d46e49-b967-4609-9925-454d82380c3c",
   "metadata": {},
   "outputs": [
    {
     "data": {
      "text/html": [
       "<table class=\"dataframe\">\n",
       "<caption>A data.frame: 6 × 6</caption>\n",
       "<thead>\n",
       "\t<tr><th></th><th scope=col>X</th><th scope=col>position.in.mutant.mRNA</th><th scope=col>sequence.in.mutant.mRNA</th><th scope=col>position.in.adapting.gene.DNA</th><th scope=col>sequence.in.adapting.gene.DNA</th><th scope=col>strand</th></tr>\n",
       "\t<tr><th></th><th scope=col>&lt;int&gt;</th><th scope=col>&lt;int&gt;</th><th scope=col>&lt;chr&gt;</th><th scope=col>&lt;int&gt;</th><th scope=col>&lt;chr&gt;</th><th scope=col>&lt;chr&gt;</th></tr>\n",
       "</thead>\n",
       "<tbody>\n",
       "\t<tr><th scope=row>1</th><td>0</td><td>127</td><td>TCCGACAGAAGACAGATGTTCTCAA    </td><td> 453</td><td>TCTGACAGTCGTCTTAGGTTGGCAA    </td><td>sense</td></tr>\n",
       "\t<tr><th scope=row>2</th><td>1</td><td>  3</td><td>ACCGTGCCCGATCAGTTTCAGTGCA    </td><td>1017</td><td>AACCTCCCCGACAAGTGGCAGTCTA    </td><td>sense</td></tr>\n",
       "\t<tr><th scope=row>3</th><td>2</td><td>  5</td><td>CGTGCCCGATCAGTTTCAGTGCAAACTCA</td><td>1019</td><td>CCTCCCCGACAAGTGGCAGTCTAGACTTT</td><td>sense</td></tr>\n",
       "\t<tr><th scope=row>4</th><td>3</td><td>101</td><td>GGTTGTCTACACGCTGTTTGTTCCA    </td><td>1820</td><td>GCTTTTCAACATTCTGTCTGATAAA    </td><td>sense</td></tr>\n",
       "\t<tr><th scope=row>5</th><td>4</td><td>103</td><td>TTGTCTACACGCTGTTTGTTCCATT    </td><td>1822</td><td>TTTTCAACATTCTGTCTGATAAAGT    </td><td>sense</td></tr>\n",
       "\t<tr><th scope=row>6</th><td>5</td><td>  9</td><td>CCCGATCAGTTTCAGTGCAAACTCAT   </td><td>2703</td><td>TCCAATCAGGTGCAGTTCAGAAAAAC   </td><td>sense</td></tr>\n",
       "</tbody>\n",
       "</table>\n"
      ],
      "text/latex": [
       "A data.frame: 6 × 6\n",
       "\\begin{tabular}{r|llllll}\n",
       "  & X & position.in.mutant.mRNA & sequence.in.mutant.mRNA & position.in.adapting.gene.DNA & sequence.in.adapting.gene.DNA & strand\\\\\n",
       "  & <int> & <int> & <chr> & <int> & <chr> & <chr>\\\\\n",
       "\\hline\n",
       "\t1 & 0 & 127 & TCCGACAGAAGACAGATGTTCTCAA     &  453 & TCTGACAGTCGTCTTAGGTTGGCAA     & sense\\\\\n",
       "\t2 & 1 &   3 & ACCGTGCCCGATCAGTTTCAGTGCA     & 1017 & AACCTCCCCGACAAGTGGCAGTCTA     & sense\\\\\n",
       "\t3 & 2 &   5 & CGTGCCCGATCAGTTTCAGTGCAAACTCA & 1019 & CCTCCCCGACAAGTGGCAGTCTAGACTTT & sense\\\\\n",
       "\t4 & 3 & 101 & GGTTGTCTACACGCTGTTTGTTCCA     & 1820 & GCTTTTCAACATTCTGTCTGATAAA     & sense\\\\\n",
       "\t5 & 4 & 103 & TTGTCTACACGCTGTTTGTTCCATT     & 1822 & TTTTCAACATTCTGTCTGATAAAGT     & sense\\\\\n",
       "\t6 & 5 &   9 & CCCGATCAGTTTCAGTGCAAACTCAT    & 2703 & TCCAATCAGGTGCAGTTCAGAAAAAC    & sense\\\\\n",
       "\\end{tabular}\n"
      ],
      "text/markdown": [
       "\n",
       "A data.frame: 6 × 6\n",
       "\n",
       "| <!--/--> | X &lt;int&gt; | position.in.mutant.mRNA &lt;int&gt; | sequence.in.mutant.mRNA &lt;chr&gt; | position.in.adapting.gene.DNA &lt;int&gt; | sequence.in.adapting.gene.DNA &lt;chr&gt; | strand &lt;chr&gt; |\n",
       "|---|---|---|---|---|---|---|\n",
       "| 1 | 0 | 127 | TCCGACAGAAGACAGATGTTCTCAA     |  453 | TCTGACAGTCGTCTTAGGTTGGCAA     | sense |\n",
       "| 2 | 1 |   3 | ACCGTGCCCGATCAGTTTCAGTGCA     | 1017 | AACCTCCCCGACAAGTGGCAGTCTA     | sense |\n",
       "| 3 | 2 |   5 | CGTGCCCGATCAGTTTCAGTGCAAACTCA | 1019 | CCTCCCCGACAAGTGGCAGTCTAGACTTT | sense |\n",
       "| 4 | 3 | 101 | GGTTGTCTACACGCTGTTTGTTCCA     | 1820 | GCTTTTCAACATTCTGTCTGATAAA     | sense |\n",
       "| 5 | 4 | 103 | TTGTCTACACGCTGTTTGTTCCATT     | 1822 | TTTTCAACATTCTGTCTGATAAAGT     | sense |\n",
       "| 6 | 5 |   9 | CCCGATCAGTTTCAGTGCAAACTCAT    | 2703 | TCCAATCAGGTGCAGTTCAGAAAAAC    | sense |\n",
       "\n"
      ],
      "text/plain": [
       "  X position.in.mutant.mRNA sequence.in.mutant.mRNA      \n",
       "1 0 127                     TCCGACAGAAGACAGATGTTCTCAA    \n",
       "2 1   3                     ACCGTGCCCGATCAGTTTCAGTGCA    \n",
       "3 2   5                     CGTGCCCGATCAGTTTCAGTGCAAACTCA\n",
       "4 3 101                     GGTTGTCTACACGCTGTTTGTTCCA    \n",
       "5 4 103                     TTGTCTACACGCTGTTTGTTCCATT    \n",
       "6 5   9                     CCCGATCAGTTTCAGTGCAAACTCAT   \n",
       "  position.in.adapting.gene.DNA sequence.in.adapting.gene.DNA strand\n",
       "1  453                          TCTGACAGTCGTCTTAGGTTGGCAA     sense \n",
       "2 1017                          AACCTCCCCGACAAGTGGCAGTCTA     sense \n",
       "3 1019                          CCTCCCCGACAAGTGGCAGTCTAGACTTT sense \n",
       "4 1820                          GCTTTTCAACATTCTGTCTGATAAA     sense \n",
       "5 1822                          TTTTCAACATTCTGTCTGATAAAGT     sense \n",
       "6 2703                          TCCAATCAGGTGCAGTTCAGAAAAAC    sense "
      ]
     },
     "metadata": {},
     "output_type": "display_data"
    }
   ],
   "source": [
    "head(data2)"
   ]
  },
  {
   "cell_type": "code",
   "execution_count": 26,
   "id": "2ed75ad5-05d8-4a04-a161-823e5875cd3b",
   "metadata": {},
   "outputs": [],
   "source": [
    "for (i in 1:nrow(data1)) {\n",
    "  # Extract the sequence and position\n",
    "  sequence <- data1$sequence.in.adapting.gene.DNA[i]\n",
    "  identifier <- paste0(\"FERMT1_\", i,\"_pos_\", data1$position.in.adapting.gene.DNA[i])\n",
    "  file_name <- paste0(\"FERMT1_\", i)\n",
    "    \n",
    "  fasta_content <- paste0(\">\", identifier, \"\\n\", sequence)\n",
    "  writeLines(fasta_content, con = paste0(file_name, \".fasta\"))\n",
    "}"
   ]
  },
  {
   "cell_type": "code",
   "execution_count": 27,
   "id": "f44f271e-925a-4266-9fb1-18ea5e4b02bf",
   "metadata": {},
   "outputs": [],
   "source": [
    "for (i in 1:nrow(data2)) {\n",
    "  # Extract the sequence and position\n",
    "  sequence <- data2$sequence.in.adapting.gene.DNA[i]\n",
    "  identifier <- paste0(\"TPM2_\", i,\"_P\", data2$position.in.adapting.gene.DNA[i])\n",
    "  file_name <- paste0(\"TPM2_\", i)\n",
    "\n",
    "  fasta_content <- paste0(\">\", identifier, \"\\n\", sequence)\n",
    "  writeLines(fasta_content, con = paste0(file_name, \".fasta\"))\n",
    "}"
   ]
  },
  {
   "cell_type": "markdown",
   "id": "0decedb1-1d02-4d96-af5d-c2ebec3f29a0",
   "metadata": {},
   "source": [
    "## Actg2 sequence"
   ]
  },
  {
   "cell_type": "code",
   "execution_count": 2,
   "id": "90ec5700-4f12-4616-8e83-1c1abe1b18be",
   "metadata": {},
   "outputs": [],
   "source": [
    "setwd(\"/home/ylee/meme/Actg2_sequence/\")"
   ]
  },
  {
   "cell_type": "code",
   "execution_count": 3,
   "id": "b3bcf6b2-e418-4cc7-a7e5-b6b2c0c54e77",
   "metadata": {},
   "outputs": [
    {
     "data": {
      "text/html": [
       "<table class=\"dataframe\">\n",
       "<caption>A data.frame: 6 × 6</caption>\n",
       "<thead>\n",
       "\t<tr><th></th><th scope=col>X</th><th scope=col>position.in.mutant.mRNA</th><th scope=col>sequence.in.mutant.mRNA</th><th scope=col>position.in.adapting.gene.DNA</th><th scope=col>sequence.in.adapting.gene.DNA</th><th scope=col>strand</th></tr>\n",
       "\t<tr><th></th><th scope=col>&lt;int&gt;</th><th scope=col>&lt;int&gt;</th><th scope=col>&lt;chr&gt;</th><th scope=col>&lt;int&gt;</th><th scope=col>&lt;chr&gt;</th><th scope=col>&lt;chr&gt;</th></tr>\n",
       "</thead>\n",
       "<tbody>\n",
       "\t<tr><th scope=row>1</th><td>0</td><td>57</td><td>ATCTTCCTCCTTGGAGAAGAGTTAC    </td><td>26376</td><td>GTGACGCTTGTCCAACCGTGTAGAT    </td><td>antisense</td></tr>\n",
       "\t<tr><th scope=row>2</th><td>1</td><td>18</td><td>TGCCCTGGATTTTGAGCAAGAAATG    </td><td>25971</td><td>CAGCTGTAGCACTAGTTCCAGGGCA    </td><td>antisense</td></tr>\n",
       "\t<tr><th scope=row>3</th><td>2</td><td>27</td><td>TTTTGAGCAAGAAATGGCTACTGCT    </td><td>25825</td><td>AGCCGCAGCCTTCTCTTCTATAAAA    </td><td>antisense</td></tr>\n",
       "\t<tr><th scope=row>4</th><td>3</td><td>66</td><td>CTTGGAGAAGAGTTACGAGCTGCCC    </td><td>23429</td><td>GGGCAGGTCATCACTATTGGCAACG    </td><td>antisense</td></tr>\n",
       "\t<tr><th scope=row>5</th><td>4</td><td>72</td><td>GAAGAGTTACGAGCTGCCCGACGGGCAGG</td><td>23423</td><td>GTTGCCTGATGGGCAGGTCATCACTATTG</td><td>antisense</td></tr>\n",
       "\t<tr><th scope=row>6</th><td>5</td><td>55</td><td>TCATCTTCCTCCTTGGAGAAGAGTTA   </td><td>22890</td><td>AAACTTATCTCCTTGGAGGAGTTTGT   </td><td>antisense</td></tr>\n",
       "</tbody>\n",
       "</table>\n"
      ],
      "text/latex": [
       "A data.frame: 6 × 6\n",
       "\\begin{tabular}{r|llllll}\n",
       "  & X & position.in.mutant.mRNA & sequence.in.mutant.mRNA & position.in.adapting.gene.DNA & sequence.in.adapting.gene.DNA & strand\\\\\n",
       "  & <int> & <int> & <chr> & <int> & <chr> & <chr>\\\\\n",
       "\\hline\n",
       "\t1 & 0 & 57 & ATCTTCCTCCTTGGAGAAGAGTTAC     & 26376 & GTGACGCTTGTCCAACCGTGTAGAT     & antisense\\\\\n",
       "\t2 & 1 & 18 & TGCCCTGGATTTTGAGCAAGAAATG     & 25971 & CAGCTGTAGCACTAGTTCCAGGGCA     & antisense\\\\\n",
       "\t3 & 2 & 27 & TTTTGAGCAAGAAATGGCTACTGCT     & 25825 & AGCCGCAGCCTTCTCTTCTATAAAA     & antisense\\\\\n",
       "\t4 & 3 & 66 & CTTGGAGAAGAGTTACGAGCTGCCC     & 23429 & GGGCAGGTCATCACTATTGGCAACG     & antisense\\\\\n",
       "\t5 & 4 & 72 & GAAGAGTTACGAGCTGCCCGACGGGCAGG & 23423 & GTTGCCTGATGGGCAGGTCATCACTATTG & antisense\\\\\n",
       "\t6 & 5 & 55 & TCATCTTCCTCCTTGGAGAAGAGTTA    & 22890 & AAACTTATCTCCTTGGAGGAGTTTGT    & antisense\\\\\n",
       "\\end{tabular}\n"
      ],
      "text/markdown": [
       "\n",
       "A data.frame: 6 × 6\n",
       "\n",
       "| <!--/--> | X &lt;int&gt; | position.in.mutant.mRNA &lt;int&gt; | sequence.in.mutant.mRNA &lt;chr&gt; | position.in.adapting.gene.DNA &lt;int&gt; | sequence.in.adapting.gene.DNA &lt;chr&gt; | strand &lt;chr&gt; |\n",
       "|---|---|---|---|---|---|---|\n",
       "| 1 | 0 | 57 | ATCTTCCTCCTTGGAGAAGAGTTAC     | 26376 | GTGACGCTTGTCCAACCGTGTAGAT     | antisense |\n",
       "| 2 | 1 | 18 | TGCCCTGGATTTTGAGCAAGAAATG     | 25971 | CAGCTGTAGCACTAGTTCCAGGGCA     | antisense |\n",
       "| 3 | 2 | 27 | TTTTGAGCAAGAAATGGCTACTGCT     | 25825 | AGCCGCAGCCTTCTCTTCTATAAAA     | antisense |\n",
       "| 4 | 3 | 66 | CTTGGAGAAGAGTTACGAGCTGCCC     | 23429 | GGGCAGGTCATCACTATTGGCAACG     | antisense |\n",
       "| 5 | 4 | 72 | GAAGAGTTACGAGCTGCCCGACGGGCAGG | 23423 | GTTGCCTGATGGGCAGGTCATCACTATTG | antisense |\n",
       "| 6 | 5 | 55 | TCATCTTCCTCCTTGGAGAAGAGTTA    | 22890 | AAACTTATCTCCTTGGAGGAGTTTGT    | antisense |\n",
       "\n"
      ],
      "text/plain": [
       "  X position.in.mutant.mRNA sequence.in.mutant.mRNA      \n",
       "1 0 57                      ATCTTCCTCCTTGGAGAAGAGTTAC    \n",
       "2 1 18                      TGCCCTGGATTTTGAGCAAGAAATG    \n",
       "3 2 27                      TTTTGAGCAAGAAATGGCTACTGCT    \n",
       "4 3 66                      CTTGGAGAAGAGTTACGAGCTGCCC    \n",
       "5 4 72                      GAAGAGTTACGAGCTGCCCGACGGGCAGG\n",
       "6 5 55                      TCATCTTCCTCCTTGGAGAAGAGTTA   \n",
       "  position.in.adapting.gene.DNA sequence.in.adapting.gene.DNA strand   \n",
       "1 26376                         GTGACGCTTGTCCAACCGTGTAGAT     antisense\n",
       "2 25971                         CAGCTGTAGCACTAGTTCCAGGGCA     antisense\n",
       "3 25825                         AGCCGCAGCCTTCTCTTCTATAAAA     antisense\n",
       "4 23429                         GGGCAGGTCATCACTATTGGCAACG     antisense\n",
       "5 23423                         GTTGCCTGATGGGCAGGTCATCACTATTG antisense\n",
       "6 22890                         AAACTTATCTCCTTGGAGGAGTTTGT    antisense"
      ]
     },
     "metadata": {},
     "output_type": "display_data"
    }
   ],
   "source": [
    "data1 <- read.csv(\"Actg1_hotspot101_Actg2_mapped_sequecnes_68_percent.csv\", header = TRUE, fill = TRUE)\n",
    "head(data1)"
   ]
  },
  {
   "cell_type": "code",
   "execution_count": 4,
   "id": "f86501fb-1f91-4f36-a3de-bfd3cf4e0fe2",
   "metadata": {},
   "outputs": [
    {
     "data": {
      "text/html": [
       "<table class=\"dataframe\">\n",
       "<caption>A data.frame: 5 × 6</caption>\n",
       "<thead>\n",
       "\t<tr><th></th><th scope=col>X</th><th scope=col>position.in.mutant.mRNA</th><th scope=col>sequence.in.mutant.mRNA</th><th scope=col>position.in.adapting.gene.DNA</th><th scope=col>sequence.in.adapting.gene.DNA</th><th scope=col>strand</th></tr>\n",
       "\t<tr><th></th><th scope=col>&lt;int&gt;</th><th scope=col>&lt;int&gt;</th><th scope=col>&lt;chr&gt;</th><th scope=col>&lt;int&gt;</th><th scope=col>&lt;chr&gt;</th><th scope=col>&lt;chr&gt;</th></tr>\n",
       "</thead>\n",
       "<tbody>\n",
       "\t<tr><th scope=row>1</th><td>0</td><td>61</td><td>GCTTACACTGCGCTTCTTGCCGCTC  </td><td>16368</td><td>GTGGGGGACGAGGCTCAGAGCAAGC  </td><td>antisense</td></tr>\n",
       "\t<tr><th scope=row>2</th><td>1</td><td>42</td><td>GTCTCACACTCCGCCGCCGGCTTAC  </td><td> 7825</td><td>GACAACCTGGGTCTCAGTGTGAGAC  </td><td>antisense</td></tr>\n",
       "\t<tr><th scope=row>3</th><td>2</td><td>34</td><td>CGCGGTCGGTCTCACACTCCGCCGCC </td><td> 4713</td><td>GGCTCCAGGGTGCTAGACTGACCCCG </td><td>antisense</td></tr>\n",
       "\t<tr><th scope=row>4</th><td>3</td><td>37</td><td>GGTCGGTCTCACACTCCGCCGCCGG  </td><td> 4710</td><td>CAGGCTCCAGGGTGCTAGACTGACC  </td><td>antisense</td></tr>\n",
       "\t<tr><th scope=row>5</th><td>4</td><td>71</td><td>CGCTTCTTGCCGCTCCTCCGTCGCCGC</td><td> 2922</td><td>ACGGCTACAGAGGATCTCCTAAAAGCC</td><td>antisense</td></tr>\n",
       "</tbody>\n",
       "</table>\n"
      ],
      "text/latex": [
       "A data.frame: 5 × 6\n",
       "\\begin{tabular}{r|llllll}\n",
       "  & X & position.in.mutant.mRNA & sequence.in.mutant.mRNA & position.in.adapting.gene.DNA & sequence.in.adapting.gene.DNA & strand\\\\\n",
       "  & <int> & <int> & <chr> & <int> & <chr> & <chr>\\\\\n",
       "\\hline\n",
       "\t1 & 0 & 61 & GCTTACACTGCGCTTCTTGCCGCTC   & 16368 & GTGGGGGACGAGGCTCAGAGCAAGC   & antisense\\\\\n",
       "\t2 & 1 & 42 & GTCTCACACTCCGCCGCCGGCTTAC   &  7825 & GACAACCTGGGTCTCAGTGTGAGAC   & antisense\\\\\n",
       "\t3 & 2 & 34 & CGCGGTCGGTCTCACACTCCGCCGCC  &  4713 & GGCTCCAGGGTGCTAGACTGACCCCG  & antisense\\\\\n",
       "\t4 & 3 & 37 & GGTCGGTCTCACACTCCGCCGCCGG   &  4710 & CAGGCTCCAGGGTGCTAGACTGACC   & antisense\\\\\n",
       "\t5 & 4 & 71 & CGCTTCTTGCCGCTCCTCCGTCGCCGC &  2922 & ACGGCTACAGAGGATCTCCTAAAAGCC & antisense\\\\\n",
       "\\end{tabular}\n"
      ],
      "text/markdown": [
       "\n",
       "A data.frame: 5 × 6\n",
       "\n",
       "| <!--/--> | X &lt;int&gt; | position.in.mutant.mRNA &lt;int&gt; | sequence.in.mutant.mRNA &lt;chr&gt; | position.in.adapting.gene.DNA &lt;int&gt; | sequence.in.adapting.gene.DNA &lt;chr&gt; | strand &lt;chr&gt; |\n",
       "|---|---|---|---|---|---|---|\n",
       "| 1 | 0 | 61 | GCTTACACTGCGCTTCTTGCCGCTC   | 16368 | GTGGGGGACGAGGCTCAGAGCAAGC   | antisense |\n",
       "| 2 | 1 | 42 | GTCTCACACTCCGCCGCCGGCTTAC   |  7825 | GACAACCTGGGTCTCAGTGTGAGAC   | antisense |\n",
       "| 3 | 2 | 34 | CGCGGTCGGTCTCACACTCCGCCGCC  |  4713 | GGCTCCAGGGTGCTAGACTGACCCCG  | antisense |\n",
       "| 4 | 3 | 37 | GGTCGGTCTCACACTCCGCCGCCGG   |  4710 | CAGGCTCCAGGGTGCTAGACTGACC   | antisense |\n",
       "| 5 | 4 | 71 | CGCTTCTTGCCGCTCCTCCGTCGCCGC |  2922 | ACGGCTACAGAGGATCTCCTAAAAGCC | antisense |\n",
       "\n"
      ],
      "text/plain": [
       "  X position.in.mutant.mRNA sequence.in.mutant.mRNA    \n",
       "1 0 61                      GCTTACACTGCGCTTCTTGCCGCTC  \n",
       "2 1 42                      GTCTCACACTCCGCCGCCGGCTTAC  \n",
       "3 2 34                      CGCGGTCGGTCTCACACTCCGCCGCC \n",
       "4 3 37                      GGTCGGTCTCACACTCCGCCGCCGG  \n",
       "5 4 71                      CGCTTCTTGCCGCTCCTCCGTCGCCGC\n",
       "  position.in.adapting.gene.DNA sequence.in.adapting.gene.DNA strand   \n",
       "1 16368                         GTGGGGGACGAGGCTCAGAGCAAGC     antisense\n",
       "2  7825                         GACAACCTGGGTCTCAGTGTGAGAC     antisense\n",
       "3  4713                         GGCTCCAGGGTGCTAGACTGACCCCG    antisense\n",
       "4  4710                         CAGGCTCCAGGGTGCTAGACTGACC     antisense\n",
       "5  2922                         ACGGCTACAGAGGATCTCCTAAAAGCC   antisense"
      ]
     },
     "metadata": {},
     "output_type": "display_data"
    }
   ],
   "source": [
    "data2 <- read.csv(\"Actg1_ctrl_Actg2_mapped_sequecnes_68_percent.csv\", header = TRUE, fill = TRUE)\n",
    "head(data2)"
   ]
  },
  {
   "cell_type": "code",
   "execution_count": 5,
   "id": "11a1a053-7de0-4a98-a5ad-777a4ac4a6ba",
   "metadata": {},
   "outputs": [
    {
     "data": {
      "text/html": [
       "<table class=\"dataframe\">\n",
       "<caption>A data.frame: 5 × 6</caption>\n",
       "<thead>\n",
       "\t<tr><th></th><th scope=col>X</th><th scope=col>position.in.mutant.mRNA</th><th scope=col>sequence.in.mutant.mRNA</th><th scope=col>position.in.adapting.gene.DNA</th><th scope=col>sequence.in.adapting.gene.DNA</th><th scope=col>strand</th></tr>\n",
       "\t<tr><th></th><th scope=col>&lt;int&gt;</th><th scope=col>&lt;int&gt;</th><th scope=col>&lt;chr&gt;</th><th scope=col>&lt;int&gt;</th><th scope=col>&lt;chr&gt;</th><th scope=col>&lt;chr&gt;</th></tr>\n",
       "</thead>\n",
       "<tbody>\n",
       "\t<tr><th scope=row>1</th><td>0</td><td> 2</td><td>CGGGACCTAGGCAAGTTCGAATTCT      </td><td>22644</td><td>AAAATCCAATCTCATCTAGGACCCG      </td><td>antisense</td></tr>\n",
       "\t<tr><th scope=row>2</th><td>1</td><td>58</td><td>AAGGGGTGATGGTTCAACTCCCGGCG     </td><td>11451</td><td>TGGCAGGAGATGGCCCACCTCCCCTC     </td><td>antisense</td></tr>\n",
       "\t<tr><th scope=row>3</th><td>2</td><td>46</td><td>CCCCGTTTACGGAAGGGGTGATGGT      </td><td> 2410</td><td>ACCATGACTCATTCATTTAAGGGTG      </td><td>antisense</td></tr>\n",
       "\t<tr><th scope=row>4</th><td>3</td><td>55</td><td>CGGAAGGGGTGATGGTTCAACTCCCGGCGAT</td><td> 1339</td><td>GGTGGTGGAAGTGGAACCATCTCCCACACAA</td><td>antisense</td></tr>\n",
       "\t<tr><th scope=row>5</th><td>4</td><td>65</td><td>GATGGTTCAACTCCCGGCGATGACC      </td><td> 1329</td><td>GGTGGGTGGTGGAAGTGGAACCATC      </td><td>antisense</td></tr>\n",
       "</tbody>\n",
       "</table>\n"
      ],
      "text/latex": [
       "A data.frame: 5 × 6\n",
       "\\begin{tabular}{r|llllll}\n",
       "  & X & position.in.mutant.mRNA & sequence.in.mutant.mRNA & position.in.adapting.gene.DNA & sequence.in.adapting.gene.DNA & strand\\\\\n",
       "  & <int> & <int> & <chr> & <int> & <chr> & <chr>\\\\\n",
       "\\hline\n",
       "\t1 & 0 &  2 & CGGGACCTAGGCAAGTTCGAATTCT       & 22644 & AAAATCCAATCTCATCTAGGACCCG       & antisense\\\\\n",
       "\t2 & 1 & 58 & AAGGGGTGATGGTTCAACTCCCGGCG      & 11451 & TGGCAGGAGATGGCCCACCTCCCCTC      & antisense\\\\\n",
       "\t3 & 2 & 46 & CCCCGTTTACGGAAGGGGTGATGGT       &  2410 & ACCATGACTCATTCATTTAAGGGTG       & antisense\\\\\n",
       "\t4 & 3 & 55 & CGGAAGGGGTGATGGTTCAACTCCCGGCGAT &  1339 & GGTGGTGGAAGTGGAACCATCTCCCACACAA & antisense\\\\\n",
       "\t5 & 4 & 65 & GATGGTTCAACTCCCGGCGATGACC       &  1329 & GGTGGGTGGTGGAAGTGGAACCATC       & antisense\\\\\n",
       "\\end{tabular}\n"
      ],
      "text/markdown": [
       "\n",
       "A data.frame: 5 × 6\n",
       "\n",
       "| <!--/--> | X &lt;int&gt; | position.in.mutant.mRNA &lt;int&gt; | sequence.in.mutant.mRNA &lt;chr&gt; | position.in.adapting.gene.DNA &lt;int&gt; | sequence.in.adapting.gene.DNA &lt;chr&gt; | strand &lt;chr&gt; |\n",
       "|---|---|---|---|---|---|---|\n",
       "| 1 | 0 |  2 | CGGGACCTAGGCAAGTTCGAATTCT       | 22644 | AAAATCCAATCTCATCTAGGACCCG       | antisense |\n",
       "| 2 | 1 | 58 | AAGGGGTGATGGTTCAACTCCCGGCG      | 11451 | TGGCAGGAGATGGCCCACCTCCCCTC      | antisense |\n",
       "| 3 | 2 | 46 | CCCCGTTTACGGAAGGGGTGATGGT       |  2410 | ACCATGACTCATTCATTTAAGGGTG       | antisense |\n",
       "| 4 | 3 | 55 | CGGAAGGGGTGATGGTTCAACTCCCGGCGAT |  1339 | GGTGGTGGAAGTGGAACCATCTCCCACACAA | antisense |\n",
       "| 5 | 4 | 65 | GATGGTTCAACTCCCGGCGATGACC       |  1329 | GGTGGGTGGTGGAAGTGGAACCATC       | antisense |\n",
       "\n"
      ],
      "text/plain": [
       "  X position.in.mutant.mRNA sequence.in.mutant.mRNA        \n",
       "1 0  2                      CGGGACCTAGGCAAGTTCGAATTCT      \n",
       "2 1 58                      AAGGGGTGATGGTTCAACTCCCGGCG     \n",
       "3 2 46                      CCCCGTTTACGGAAGGGGTGATGGT      \n",
       "4 3 55                      CGGAAGGGGTGATGGTTCAACTCCCGGCGAT\n",
       "5 4 65                      GATGGTTCAACTCCCGGCGATGACC      \n",
       "  position.in.adapting.gene.DNA sequence.in.adapting.gene.DNA   strand   \n",
       "1 22644                         AAAATCCAATCTCATCTAGGACCCG       antisense\n",
       "2 11451                         TGGCAGGAGATGGCCCACCTCCCCTC      antisense\n",
       "3  2410                         ACCATGACTCATTCATTTAAGGGTG       antisense\n",
       "4  1339                         GGTGGTGGAAGTGGAACCATCTCCCACACAA antisense\n",
       "5  1329                         GGTGGGTGGTGGAAGTGGAACCATC       antisense"
      ]
     },
     "metadata": {},
     "output_type": "display_data"
    }
   ],
   "source": [
    "data3 <- read.csv(\"Actg1_random_Actg2_mapped_sequecnes_68_percent.csv\", header = TRUE, fill = TRUE)\n",
    "head(data3)"
   ]
  },
  {
   "cell_type": "code",
   "execution_count": 6,
   "id": "f300adc2-be82-4b66-8b9b-161003b33858",
   "metadata": {},
   "outputs": [],
   "source": [
    "for (i in 1:nrow(data1)) {\n",
    "  # Extract the sequence and position\n",
    "  sequence <- data1$sequence.in.adapting.gene.DNA[i]\n",
    "  identifier <- paste0(\"Actg2_hotspot_\", i,\"_pos_\", data1$position.in.adapting.gene.DNA[i])\n",
    "  file_name <- paste0(\"Actg2_hotspot_\", i)\n",
    "    \n",
    "  fasta_content <- paste0(\">\", identifier, \"\\n\", sequence)\n",
    "  writeLines(fasta_content, con = paste0(file_name, \".fasta\"))\n",
    "}"
   ]
  },
  {
   "cell_type": "code",
   "execution_count": 7,
   "id": "3df8e297-91b9-4b6d-b7b0-e0c0816d3fb5",
   "metadata": {},
   "outputs": [],
   "source": [
    "for (i in 1:nrow(data2)) {\n",
    "  # Extract the sequence and position\n",
    "  sequence <- data2$sequence.in.adapting.gene.DNA[i]\n",
    "  identifier <- paste0(\"Actg2_ctrl_\", i,\"_P\", data2$position.in.adapting.gene.DNA[i])\n",
    "  file_name <- paste0(\"Actg2_ctrl_\", i)\n",
    "\n",
    "  fasta_content <- paste0(\">\", identifier, \"\\n\", sequence)\n",
    "  writeLines(fasta_content, con = paste0(file_name, \".fasta\"))\n",
    "}"
   ]
  },
  {
   "cell_type": "code",
   "execution_count": 8,
   "id": "d0e29908-9002-4139-ab4e-8d07d8ac9cb1",
   "metadata": {},
   "outputs": [],
   "source": [
    "for (i in 1:nrow(data3)) {\n",
    "  # Extract the sequence and position\n",
    "  sequence <- data2$sequence.in.adapting.gene.DNA[i]\n",
    "  identifier <- paste0(\"Actg2_random_\", i,\"_P\", data2$position.in.adapting.gene.DNA[i])\n",
    "  file_name <- paste0(\"Actg2_random_\", i)\n",
    "\n",
    "  fasta_content <- paste0(\">\", identifier, \"\\n\", sequence)\n",
    "  writeLines(fasta_content, con = paste0(file_name, \".fasta\"))\n",
    "}"
   ]
  },
  {
   "cell_type": "code",
   "execution_count": null,
   "id": "5d6c7848-2100-4ecc-b24f-6de7d09dadb0",
   "metadata": {},
   "outputs": [],
   "source": []
  }
 ],
 "metadata": {
  "kernelspec": {
   "display_name": "r_4.1.2",
   "language": "R",
   "name": "r_4.1.2"
  },
  "language_info": {
   "codemirror_mode": "r",
   "file_extension": ".r",
   "mimetype": "text/x-r-source",
   "name": "R",
   "pygments_lexer": "r",
   "version": "4.1.2"
  }
 },
 "nbformat": 4,
 "nbformat_minor": 5
}
